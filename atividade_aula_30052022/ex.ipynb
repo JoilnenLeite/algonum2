{
  "nbformat": 4,
  "nbformat_minor": 0,
  "metadata": {
    "colab": {
      "name": "Untitled0.ipynb",
      "provenance": [],
      "include_colab_link": true
    },
    "kernelspec": {
      "name": "python3",
      "display_name": "Python 3"
    },
    "language_info": {
      "name": "python"
    }
  },
  "cells": [
    {
      "cell_type": "markdown",
      "metadata": {
        "id": "view-in-github",
        "colab_type": "text"
      },
      "source": [
        "<a href=\"https://colab.research.google.com/github/JoilnenLeite/algonum2/blob/main/atividade_aula_30052022/ex.ipynb\" target=\"_parent\"><img src=\"https://colab.research.google.com/assets/colab-badge.svg\" alt=\"Open In Colab\"/></a>"
      ]
    },
    {
      "cell_type": "code",
      "execution_count": null,
      "metadata": {
        "id": "uJge8e_uZOJ6",
        "colab": {
          "base_uri": "https://localhost:8080/",
          "height": 309
        },
        "outputId": "de23d8a9-c46a-419f-c663-410738c68bd2"
      },
      "outputs": [
        {
          "output_type": "display_data",
          "data": {
            "text/plain": [
              "<Figure size 432x288 with 8 Axes>"
            ],
            "image/png": "[encoded data removed]"
          },
          "metadata": {
            "needs_background": "light"
          }
        }
      ],
      "source": [
        "#\n",
        "# joilnen leite\n",
        "#\n",
        "\n",
        "import matplotlib as mpl\n",
        "import matplotlib.pyplot as plt\n",
        "import numpy as np\n",
        "from scipy.integrate import odeint\n",
        "import warnings\n",
        "warnings.filterwarnings(\"ignore\")\n",
        "\n",
        "def eqA_dy_dx(y, x):\n",
        "  return x - 3*y\n",
        "def eqB_dy_dx(y, x):\n",
        "  return (np.e**(-2*x) - (x - 1)*y)/(x - 2)\n",
        "def eqC_dy_dx(y, x):\n",
        "  return np.sin(np.e**x)*y + np.cos(np.e ** x)\n",
        "def eqD_dy_dx(y, x):\n",
        "  return (x**4 + np.e**x * y) / x**3\n",
        "\n",
        "def plot(n, xs, ys, s):\n",
        "  # \n",
        "  # n.xlabel(\"x\")\n",
        "  # n.ylabel(\"y\")\n",
        "  n.plot(xs, ys);\n",
        "  n.set_title(s)\n",
        "\n",
        "xs = np.linspace(0,1,100)\n",
        "y0 = 0.001  # the initial condition\n",
        "\n",
        "figure, axis = plt.subplots(2,4)\n",
        "# plt.rcParams.update({'font.size': 14})  # increase the font size\n",
        "figure.tight_layout()\n",
        "\n",
        "ys = odeint(eqA_dy_dx, y0, xs)\n",
        "ys = np.array(ys).flatten()\n",
        "plot(axis[0][0], xs, ys, \"ode\")\n",
        "\n",
        "ys = odeint(eqB_dy_dx, y0, xs)\n",
        "ys = np.array(ys).flatten()\n",
        "plot(axis[0][1], xs, ys, \"ode\")\n",
        "\n",
        "ys = odeint(eqC_dy_dx, y0, xs)\n",
        "ys = np.array(ys).flatten()\n",
        "plot(axis[0][2], xs, ys, \"ode\")\n",
        "\n",
        "ys = odeint(eqD_dy_dx, y0, xs)\n",
        "ys = np.array(ys).flatten()\n",
        "plot(axis[0][3], xs, ys, \"ode\")\n",
        "\n",
        "# euler\n",
        "\n",
        "\n",
        "\n",
        "\n"
      ]
    }
  ]
}