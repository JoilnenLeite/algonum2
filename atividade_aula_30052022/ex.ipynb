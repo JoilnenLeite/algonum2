{
  "nbformat": 4,
  "nbformat_minor": 0,
  "metadata": {
    "colab": {
      "name": "Untitled0.ipynb",
      "provenance": [],
      "authorship_tag": "ABX9TyNl63SK2WmCiFfHzK6IW3k4",
      "include_colab_link": true
    },
    "kernelspec": {
      "name": "python3",
      "display_name": "Python 3"
    },
    "language_info": {
      "name": "python"
    }
  },
  "cells": [
    {
      "cell_type": "markdown",
      "metadata": {
        "id": "view-in-github",
        "colab_type": "text"
      },
      "source": [
        "<a href=\"https://colab.research.google.com/github/JoilnenLeite/algonum2/blob/main/atividade_aula_30052022/ex.ipynb\" target=\"_parent\"><img src=\"https://colab.research.google.com/assets/colab-badge.svg\" alt=\"Open In Colab\"/></a>"
      ]
    },
    {
      "cell_type": "code",
      "execution_count": 12,
      "metadata": {
        "id": "uJge8e_uZOJ6",
        "colab": {
          "base_uri": "https://localhost:8080/",
          "height": 398
        },
        "outputId": "f1fe7f11-983b-42a1-c4ea-02febeea921e"
      },
      "outputs": [
        {
          "output_type": "stream",
          "name": "stderr",
          "text": [
            "/usr/local/lib/python3.7/dist-packages/ipykernel_launcher.py:13: RuntimeWarning: divide by zero encountered in true_divide\n",
            "  del sys.path[0]\n",
            "/usr/local/lib/python3.7/dist-packages/scipy/integrate/odepack.py:248: ODEintWarning: Illegal input detected (internal error). Run with full_output = 1 to get quantitative information.\n",
            "  warnings.warn(warning_msg, ODEintWarning)\n"
          ]
        },
        {
          "output_type": "display_data",
          "data": {
            "text/plain": [
              "<Figure size 432x288 with 1 Axes>"
            ],
            "image/png": "[encoded data removed]"
          },
          "metadata": {
            "needs_background": "light"
          }
        }
      ],
      "source": [
        "import matplotlib as mpl\n",
        "import matplotlib.pyplot as plt\n",
        "import numpy as np\n",
        "from scipy.integrate import odeint\n",
        "\n",
        "def eqA_dy_dx(y, x):\n",
        "  return x - 3*y\n",
        "def eqB_dy_dx(y, x):\n",
        "  return (np.e**(-2*x) - (x - 1)*y)/(x - 2)\n",
        "def eqC_dy_dx(y, x):\n",
        "  return np.sin(np.e**x)*y + np.cos(np.e ** x)\n",
        "def eqD_dy_dx(y, x):\n",
        "  return (x**4 + np.e**x * y) / x**3\n",
        "\n",
        "def plot(xs, ys):\n",
        "  plt.rcParams.update({'font.size': 14})  # increase the font size\n",
        "  plt.xlabel(\"x\")\n",
        "  plt.ylabel(\"y\")\n",
        "  plt.plot(xs, ys);\n",
        "\n",
        "xs = np.linspace(0,1,100)\n",
        "y0 = 1.0  # the initial condition\n",
        "\n",
        "ys = odeint(eqD_dy_dx, y0, xs)\n",
        "ys = np.array(ys).flatten()\n",
        "plot(xs, ys)\n",
        "\n",
        "ys = odeint(eqA_dy_dx, y0, xs)\n",
        "ys = np.array(ys).flatten()\n",
        "plot(xs, ys)\n"
      ]
    }
  ]
}